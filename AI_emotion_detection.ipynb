{
 "cells": [
  {
   "cell_type": "code",
   "execution_count": 1,
   "id": "793124fd-03ac-4035-8048-8dfa7d37b0f5",
   "metadata": {},
   "outputs": [],
   "source": [
    "import mediapipe as mp # type: ignore\n",
    "import cv2 # type: ignore\n",
    "import os\n",
    "import csv\n",
    "import numpy as np # type: ignore"
   ]
  },
  {
   "cell_type": "code",
   "execution_count": 2,
   "id": "e06061a6-f6cf-48dc-9192-c2537dae3812",
   "metadata": {},
   "outputs": [],
   "source": [
    "mp_drawing = mp.solutions.drawing_utils\n",
    "mp_holistic = mp.solutions.holistic"
   ]
  },
  {
   "cell_type": "code",
   "execution_count": 3,
   "id": "0780629d-bf7b-4157-98c9-19a3eb5b4728",
   "metadata": {},
   "outputs": [
    {
     "name": "stderr",
     "output_type": "stream",
     "text": [
      "C:\\Users\\Shruti\\AppData\\Roaming\\Python\\Python310\\site-packages\\google\\protobuf\\symbol_database.py:55: UserWarning: SymbolDatabase.GetPrototype() is deprecated. Please use message_factory.GetMessageClass() instead. SymbolDatabase.GetPrototype() will be removed soon.\n",
      "  warnings.warn('SymbolDatabase.GetPrototype() is deprecated. Please '\n"
     ]
    }
   ],
   "source": [
    "cap = cv2.VideoCapture(0)\n",
    "with mp_holistic.Holistic(min_detection_confidence=0.5, min_tracking_confidence=0.5) as holistic:\n",
    "\n",
    "# Loop to continuously capture frames and process them\n",
    "    while cap.isOpened():\n",
    "        ret, frame = cap.read()  # Read a frame from the video capture\n",
    "        \n",
    "        # Convert the frame color from BGR to RGB for Mediapipe\n",
    "        image = cv2.cvtColor(frame, cv2.COLOR_BGR2RGB)\n",
    "        image.flags.writeable = False\n",
    "        \n",
    "        # Process the frame with the holistic model\n",
    "        results = holistic.process(image)\n",
    "            \n",
    "        # Convert the frame color back to BGR for OpenCV\n",
    "        image.flags.writeable = True\n",
    "        image_bgr = cv2.cvtColor(image, cv2.COLOR_RGB2BGR)\n",
    "            \n",
    "        # 1 Draw face landmarks on the frame\n",
    "        mp_drawing.draw_landmarks(image_bgr, results.face_landmarks, mp_holistic.FACEMESH_TESSELATION,\n",
    "                                  mp_drawing.DrawingSpec(color=(80,110,10), thickness=2, circle_radius=1),\n",
    "                                  mp_drawing.DrawingSpec(color=(80,256,121), thickness=2, circle_radius=1))\n",
    "        \n",
    "        # 2 Draw Right hand landmark on the frame\n",
    "        mp_drawing.draw_landmarks(image_bgr, results.left_hand_landmarks, mp_holistic.HAND_CONNECTIONS, \n",
    "                                # BGR Format for the drawingspec color\n",
    "                                  mp_drawing.DrawingSpec(color=(255,0,0), thickness=2, circle_radius=4),\n",
    "                                  mp_drawing.DrawingSpec(color=(240,0,0), thickness=2, circle_radius=2))\n",
    "        \n",
    "        # 3 Draw Left hand landmark on the frame\n",
    "        mp_drawing.draw_landmarks(image_bgr, results.right_hand_landmarks, mp_holistic.HAND_CONNECTIONS, \n",
    "                                #   BGR Frmat for the drawingspec color right hand\n",
    "                                  mp_drawing.DrawingSpec(color=(245,117,66), thickness=2, circle_radius=4),\n",
    "                                  mp_drawing.DrawingSpec(color=(245,66,230), thickness=2, circle_radius=2))\n",
    "       \n",
    "        # 4 Draw Left hand landmark on the frame\n",
    "        mp_drawing.draw_landmarks(image_bgr, results.pose_landmarks, mp_holistic.POSE_CONNECTIONS)\n",
    "\n",
    "        # Display the annotated frame\n",
    "        cv2.imshow('Holistic Model Detection', image_bgr)\n",
    "            \n",
    "        # Check for 'q' key press to exit the loop\n",
    "        if cv2.waitKey(10) & 0xFF == ord('q'):\n",
    "            break\n",
    "\n",
    "\n",
    "# Release the video capture object and close all OpenCV windows\n",
    "cap.release()\n",
    "cv2.destroyAllWindows()"
   ]
  },
  {
   "cell_type": "code",
   "execution_count": 4,
   "id": "bc201599-3e28-470e-a145-fad7e8b8f714",
   "metadata": {},
   "outputs": [
    {
     "name": "stdout",
     "output_type": "stream",
     "text": [
      "501\n"
     ]
    }
   ],
   "source": [
    "num_coords = len(results.pose_landmarks.landmark)+ len(results.face_landmarks.landmark)\n",
    "print(num_coords)"
   ]
  },
  {
   "cell_type": "code",
   "execution_count": null,
   "id": "7ddb41ef-2679-4648-9bad-e9f8c5839e22",
   "metadata": {},
   "outputs": [],
   "source": []
  }
 ],
 "metadata": {
  "kernelspec": {
   "display_name": "Python 3 (ipykernel)",
   "language": "python",
   "name": "python3"
  },
  "language_info": {
   "codemirror_mode": {
    "name": "ipython",
    "version": 3
   },
   "file_extension": ".py",
   "mimetype": "text/x-python",
   "name": "python",
   "nbconvert_exporter": "python",
   "pygments_lexer": "ipython3",
   "version": "3.10.10"
  }
 },
 "nbformat": 4,
 "nbformat_minor": 5
}
